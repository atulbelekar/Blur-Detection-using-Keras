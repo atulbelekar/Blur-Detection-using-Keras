{
 "cells": [
  {
   "cell_type": "code",
   "execution_count": 1,
   "metadata": {},
   "outputs": [],
   "source": [
    "import tensorflow as tf"
   ]
  },
  {
   "cell_type": "code",
   "execution_count": 2,
   "metadata": {},
   "outputs": [],
   "source": [
    "from tensorflow.keras.models import Sequential"
   ]
  },
  {
   "cell_type": "code",
   "execution_count": 3,
   "metadata": {},
   "outputs": [],
   "source": [
    "from tensorflow.keras.layers import Dense, Conv2D, Dropout,MaxPooling2D,Flatten,Activation"
   ]
  },
  {
   "cell_type": "code",
   "execution_count": 4,
   "metadata": {},
   "outputs": [],
   "source": [
    "import os\n",
    "import numpy as np\n",
    "import matplotlib.pyplot as plt\n",
    "import seaborn as sns"
   ]
  },
  {
   "cell_type": "code",
   "execution_count": 5,
   "metadata": {},
   "outputs": [],
   "source": [
    "path=\"C:\\\\Users\\Atul\\\\Desktop\\\\Junk\\\\Dataset\""
   ]
  },
  {
   "cell_type": "code",
   "execution_count": 6,
   "metadata": {},
   "outputs": [],
   "source": [
    "train_path=path+\"\\\\train\"\n",
    "test_path=path+\"\\\\test\""
   ]
  },
  {
   "cell_type": "code",
   "execution_count": null,
   "metadata": {},
   "outputs": [],
   "source": []
  },
  {
   "cell_type": "code",
   "execution_count": null,
   "metadata": {},
   "outputs": [],
   "source": []
  },
  {
   "cell_type": "code",
   "execution_count": 7,
   "metadata": {},
   "outputs": [],
   "source": [
    "dim1=[]\n",
    "dim2=[]\n",
    "\n",
    "for img in os.listdir(train_path+\"\\\\blurred\\\\\"):\n",
    "    d1,d2,col=(plt.imread(train_path+\"\\\\blurred\\\\\"+img)).shape\n",
    "    dim1.append(d1)\n",
    "    dim2.append(d2)"
   ]
  },
  {
   "cell_type": "code",
   "execution_count": 8,
   "metadata": {},
   "outputs": [
    {
     "data": {
      "text/plain": [
       "<seaborn.axisgrid.JointGrid at 0x2252c800108>"
      ]
     },
     "execution_count": 8,
     "metadata": {},
     "output_type": "execute_result"
    },
    {
     "data": {
      "image/png": "[encoded data removed]",
      "text/plain": [
       "<Figure size 432x432 with 3 Axes>"
      ]
     },
     "metadata": {
      "needs_background": "light"
     },
     "output_type": "display_data"
    }
   ],
   "source": [
    "sns.jointplot(dim1,dim2)"
   ]
  },
  {
   "cell_type": "code",
   "execution_count": 7,
   "metadata": {},
   "outputs": [],
   "source": [
    "from tensorflow.keras.preprocessing.image import ImageDataGenerator"
   ]
  },
  {
   "cell_type": "code",
   "execution_count": 8,
   "metadata": {},
   "outputs": [],
   "source": [
    "gen=ImageDataGenerator(rotation_range=20,shear_range=0.2,width_shift_range=0.1,height_shift_range=0.1,\n",
    "                      rescale=1/255, horizontal_flip=True, vertical_flip=True, fill_mode='nearest')"
   ]
  },
  {
   "cell_type": "code",
   "execution_count": 9,
   "metadata": {},
   "outputs": [
    {
     "name": "stdout",
     "output_type": "stream",
     "text": [
      "Found 255 images belonging to 2 classes.\n"
     ]
    },
    {
     "data": {
      "text/plain": [
       "<keras_preprocessing.image.directory_iterator.DirectoryIterator at 0x1304cb4a408>"
      ]
     },
     "execution_count": 9,
     "metadata": {},
     "output_type": "execute_result"
    }
   ],
   "source": [
    "gen.flow_from_directory(train_path)"
   ]
  },
  {
   "cell_type": "code",
   "execution_count": null,
   "metadata": {},
   "outputs": [],
   "source": []
  },
  {
   "cell_type": "code",
   "execution_count": null,
   "metadata": {},
   "outputs": [],
   "source": []
  },
  {
   "cell_type": "code",
   "execution_count": 36,
   "metadata": {},
   "outputs": [],
   "source": [
    "model = Sequential()\n",
    "\n",
    "model.add(Conv2D(filters=256, kernel_size=(3,3),input_shape=(250,188,3), activation='relu',))\n",
    "model.add(MaxPooling2D(pool_size=(4, 4)))\n",
    "\n",
    "model.add(Flatten())\n",
    "\n",
    "\n",
    "model.add(Dense(128))\n",
    "model.add(Activation('relu'))\n",
    "\n",
    "# Dropouts help reduce overfitting by randomly turning neurons off during training.\n",
    "# Here we say randomly turn off 50% of neurons.\n",
    "# Last layer, remember its binary so we use sigmoid\n",
    "model.add(Dense(1))\n",
    "model.add(Activation('sigmoid'))\n",
    "\n",
    "model.compile(loss='binary_crossentropy',\n",
    "              optimizer='adam',\n",
    "              metrics=['accuracy'])"
   ]
  },
  {
   "cell_type": "code",
   "execution_count": null,
   "metadata": {},
   "outputs": [],
   "source": []
  },
  {
   "cell_type": "code",
   "execution_count": 37,
   "metadata": {},
   "outputs": [
    {
     "name": "stdout",
     "output_type": "stream",
     "text": [
      "Model: \"sequential_6\"\n",
      "_________________________________________________________________\n",
      "Layer (type)                 Output Shape              Param #   \n",
      "=================================================================\n",
      "conv2d_6 (Conv2D)            (None, 248, 186, 256)     7168      \n",
      "_________________________________________________________________\n",
      "max_pooling2d_6 (MaxPooling2 (None, 62, 46, 256)       0         \n",
      "_________________________________________________________________\n",
      "flatten_6 (Flatten)          (None, 730112)            0         \n",
      "_________________________________________________________________\n",
      "dense_11 (Dense)             (None, 128)               93454464  \n",
      "_________________________________________________________________\n",
      "activation_10 (Activation)   (None, 128)               0         \n",
      "_________________________________________________________________\n",
      "dense_12 (Dense)             (None, 1)                 129       \n",
      "_________________________________________________________________\n",
      "activation_11 (Activation)   (None, 1)                 0         \n",
      "=================================================================\n",
      "Total params: 93,461,761\n",
      "Trainable params: 93,461,761\n",
      "Non-trainable params: 0\n",
      "_________________________________________________________________\n"
     ]
    }
   ],
   "source": [
    "model.summary()"
   ]
  },
  {
   "cell_type": "code",
   "execution_count": 38,
   "metadata": {},
   "outputs": [
    {
     "name": "stdout",
     "output_type": "stream",
     "text": [
      "Found 255 images belonging to 2 classes.\n"
     ]
    }
   ],
   "source": [
    "train_gen=gen.flow_from_directory(train_path,target_size=(250,188),class_mode='binary',color_mode='rgb',batch_size=20,\n",
    "                                 shuffle=True)"
   ]
  },
  {
   "cell_type": "code",
   "execution_count": 39,
   "metadata": {},
   "outputs": [
    {
     "name": "stdout",
     "output_type": "stream",
     "text": [
      "Found 48 images belonging to 2 classes.\n"
     ]
    }
   ],
   "source": [
    "test_gen=gen.flow_from_directory(test_path,target_size=(250,188),class_mode='binary',color_mode='rgb',batch_size=5,\n",
    "                                 shuffle=False)"
   ]
  },
  {
   "cell_type": "code",
   "execution_count": 40,
   "metadata": {},
   "outputs": [
    {
     "name": "stdout",
     "output_type": "stream",
     "text": [
      "Epoch 1/15\n",
      "13/13 [==============================] - 65s 5s/step - loss: 4.7460 - accuracy: 0.6314 - val_loss: 0.7273 - val_accuracy: 0.7500\n",
      "Epoch 2/15\n",
      "13/13 [==============================] - 48s 4s/step - loss: 0.4497 - accuracy: 0.7882 - val_loss: 0.7590 - val_accuracy: 0.6667\n",
      "Epoch 3/15\n",
      "13/13 [==============================] - 44s 3s/step - loss: 0.4251 - accuracy: 0.7804 - val_loss: 0.6271 - val_accuracy: 0.7292\n",
      "Epoch 4/15\n",
      "13/13 [==============================] - 52s 4s/step - loss: 0.4328 - accuracy: 0.8039 - val_loss: 0.7418 - val_accuracy: 0.7292\n",
      "Epoch 5/15\n",
      "13/13 [==============================] - 49s 4s/step - loss: 0.3409 - accuracy: 0.8667 - val_loss: 0.7423 - val_accuracy: 0.7500\n",
      "Epoch 6/15\n",
      "13/13 [==============================] - 42s 3s/step - loss: 0.3572 - accuracy: 0.8275 - val_loss: 0.6025 - val_accuracy: 0.7708\n",
      "Epoch 7/15\n",
      "13/13 [==============================] - 42s 3s/step - loss: 0.3976 - accuracy: 0.8549 - val_loss: 0.6995 - val_accuracy: 0.7292\n",
      "Epoch 8/15\n",
      "13/13 [==============================] - 43s 3s/step - loss: 0.3555 - accuracy: 0.8314 - val_loss: 0.6249 - val_accuracy: 0.7917\n",
      "Epoch 9/15\n",
      "13/13 [==============================] - 43s 3s/step - loss: 0.3319 - accuracy: 0.8745 - val_loss: 0.7615 - val_accuracy: 0.7292\n",
      "Epoch 10/15\n",
      "13/13 [==============================] - 42s 3s/step - loss: 0.2531 - accuracy: 0.8980 - val_loss: 1.0128 - val_accuracy: 0.6458\n",
      "Epoch 11/15\n",
      "13/13 [==============================] - 42s 3s/step - loss: 0.3713 - accuracy: 0.8627 - val_loss: 0.6985 - val_accuracy: 0.7917\n",
      "Epoch 12/15\n",
      "13/13 [==============================] - 43s 3s/step - loss: 0.2442 - accuracy: 0.8941 - val_loss: 0.6922 - val_accuracy: 0.7708\n",
      "Epoch 13/15\n",
      "13/13 [==============================] - 42s 3s/step - loss: 0.2819 - accuracy: 0.8745 - val_loss: 0.9653 - val_accuracy: 0.6042\n",
      "Epoch 14/15\n",
      "13/13 [==============================] - 42s 3s/step - loss: 0.2665 - accuracy: 0.8941 - val_loss: 0.8409 - val_accuracy: 0.7708\n",
      "Epoch 15/15\n",
      "13/13 [==============================] - 42s 3s/step - loss: 0.2795 - accuracy: 0.8667 - val_loss: 1.1188 - val_accuracy: 0.5417\n"
     ]
    },
    {
     "data": {
      "text/plain": [
       "<tensorflow.python.keras.callbacks.History at 0x19c5ea26a48>"
      ]
     },
     "execution_count": 40,
     "metadata": {},
     "output_type": "execute_result"
    }
   ],
   "source": [
    "model.fit_generator(train_gen,epochs=15,validation_data=test_gen)"
   ]
  },
  {
   "cell_type": "code",
   "execution_count": 33,
   "metadata": {},
   "outputs": [
    {
     "name": "stdout",
     "output_type": "stream",
     "text": [
      "WARNING:tensorflow:From <ipython-input-33-162faf28a7af>:1: Model.evaluate_generator (from tensorflow.python.keras.engine.training) is deprecated and will be removed in a future version.\n",
      "Instructions for updating:\n",
      "Please use Model.evaluate, which supports generators.\n"
     ]
    },
    {
     "data": {
      "text/plain": [
       "[0.9855925440788269, 0.75]"
      ]
     },
     "execution_count": 33,
     "metadata": {},
     "output_type": "execute_result"
    }
   ],
   "source": [
    "model.evaluate_generator(test_gen)"
   ]
  },
  {
   "cell_type": "code",
   "execution_count": null,
   "metadata": {},
   "outputs": [],
   "source": []
  },
  {
   "cell_type": "code",
   "execution_count": null,
   "metadata": {},
   "outputs": [],
   "source": []
  },
  {
   "cell_type": "code",
   "execution_count": null,
   "metadata": {},
   "outputs": [],
   "source": []
  }
 ],
 "metadata": {
  "kernelspec": {
   "display_name": "Python 3",
   "language": "python",
   "name": "python3"
  },
  "language_info": {
   "codemirror_mode": {
    "name": "ipython",
    "version": 3
   },
   "file_extension": ".py",
   "mimetype": "text/x-python",
   "name": "python",
   "nbconvert_exporter": "python",
   "pygments_lexer": "ipython3",
   "version": "3.7.6"
  }
 },
 "nbformat": 4,
 "nbformat_minor": 4
}
